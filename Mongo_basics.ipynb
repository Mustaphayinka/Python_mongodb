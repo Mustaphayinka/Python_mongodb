{
 "cells": [
  {
   "cell_type": "code",
   "execution_count": 70,
   "id": "impressive-navigation",
   "metadata": {},
   "outputs": [],
   "source": [
    "# Importting the relevant libraries\n",
    "import pymongo\n",
    "from pymongo import MongoClient\n",
    "import datetime\n",
    "import pandas as pd\n",
    "from bson.objectid import ObjectId\n",
    "from pandas.io.json import json_normalize\n",
    "import warnings\n",
    "warnings.filterwarnings('ignore')"
   ]
  },
  {
   "cell_type": "code",
   "execution_count": 3,
   "id": "continental-absence",
   "metadata": {},
   "outputs": [],
   "source": [
    "# Connecting to mongodb compass installed in the local system\n",
    "# 27017 is the default ip address of mongodb compass\n",
    "\n",
    "client = pymongo.MongoClient('mongodb://127.0.0.1:27017/')"
   ]
  },
  {
   "cell_type": "code",
   "execution_count": 5,
   "id": "sixth-halloween",
   "metadata": {},
   "outputs": [],
   "source": [
    "# Creating a database\n",
    "mydatabase = client['Students']\n",
    "\n",
    "# Creating a collection in the ['Students'] database; Students_scores\n",
    "collection = mydatabase['Students_Info']\n",
    "\n"
   ]
  },
  {
   "cell_type": "code",
   "execution_count": 7,
   "id": "later-compensation",
   "metadata": {},
   "outputs": [
    {
     "data": {
      "text/plain": [
       "<pymongo.results.InsertOneResult at 0x200204a6d40>"
      ]
     },
     "execution_count": 7,
     "metadata": {},
     "output_type": "execute_result"
    }
   ],
   "source": [
    "# Inserting records into the database; for one record\n",
    "info1 = {\n",
    "    'firstname':'Mustapha',\n",
    "    'lastname':'Yusuf',\n",
    "    'age':23,\n",
    "    'department':'Economics',\n",
    "     'address':{\n",
    "            'number': 5, \n",
    "            'street': 'Ijeh Police Barracks', \n",
    "            'city': 'Ikoyi-Obalende'\n",
    "        },\n",
    "    'date':datetime.datetime.utcnow()\n",
    "}\n",
    "\n",
    "collection.insert_one(info1)"
   ]
  },
  {
   "cell_type": "code",
   "execution_count": 8,
   "id": "fifteen-atlas",
   "metadata": {},
   "outputs": [
    {
     "data": {
      "text/plain": [
       "<pymongo.results.InsertManyResult at 0x20020570fc0>"
      ]
     },
     "execution_count": 8,
     "metadata": {},
     "output_type": "execute_result"
    }
   ],
   "source": [
    "# Inserting records into the database; for more than one record\n",
    "info2 = [{\n",
    "    'firstname':'Zainab',\n",
    "    'lastname':'Yusuf',\n",
    "    'age':20,\n",
    "    'department':'English',\n",
    "     'address':{\n",
    "            'number': 6, \n",
    "            'street': 'Ijeh Police Barracks', \n",
    "            'city': 'Ikoyi-Obalende'\n",
    "        },\n",
    "    'date':datetime.datetime.utcnow()\n",
    "},\n",
    "   {'firstname':'Aisha',\n",
    "    'lastname':'Yusuf',\n",
    "    'age':18,\n",
    "    'department':'Political-Science',\n",
    "     'address':{\n",
    "            'number': 7, \n",
    "            'street': 'Ijeh Police Barracks', \n",
    "            'city': 'Ikoyi-Obalende'\n",
    "        },\n",
    "    'date':datetime.datetime.utcnow()\n",
    "},\n",
    "   {'firstname':'Halima',\n",
    "    'lastname':'Yusuf',\n",
    "    'age':10,\n",
    "    'department':'Law',\n",
    "     'address':{\n",
    "            'number': 15, \n",
    "            'street': 'Ijeh Police Barracks', \n",
    "            'city': 'Ikoyi-Obalende'\n",
    "        },\n",
    "    'date':datetime.datetime.utcnow()\n",
    "},\n",
    "   {'firstname':'Al-Bishir Nur',\n",
    "    'lastname':'Nur',\n",
    "    'age':24,\n",
    "    'department':'Economics',\n",
    "     'address':{\n",
    "            'number': 5, \n",
    "            'street': 'Yobe', \n",
    "            'city': 'Damaturu'\n",
    "        },\n",
    "    'date':datetime.datetime.utcnow()\n",
    "},\n",
    "   {'firstname':'Hamza',\n",
    "    'lastname':'Isiaka',\n",
    "    'age':27,\n",
    "    'department':'Banking and Finance',\n",
    "     'address':{\n",
    "            'number': 13, \n",
    "            'street': 'Eti-osa', \n",
    "            'city': 'Ikoyi'\n",
    "        },\n",
    "    'date':datetime.datetime.utcnow()\n",
    "},\n",
    "   {'firstname':'Awwal',\n",
    "    'lastname':'Isiaka',\n",
    "    'age':29,\n",
    "    'department':'Animal Breeding and Genetics',\n",
    "     'address':{\n",
    "            'number': 6, \n",
    "            'street': 'Lewis Street', \n",
    "            'city': 'Lagos Island'\n",
    "        },\n",
    "    'date':datetime.datetime.utcnow()\n",
    "},\n",
    "]\n",
    "collection.insert_many(info2)\n",
    "\n"
   ]
  },
  {
   "cell_type": "code",
   "execution_count": 41,
   "id": "graduate-confidence",
   "metadata": {},
   "outputs": [
    {
     "name": "stdout",
     "output_type": "stream",
     "text": [
      "7\n"
     ]
    }
   ],
   "source": [
    "# Total number of records in the database\n",
    "print(collection.count_documents({}))"
   ]
  },
  {
   "cell_type": "code",
   "execution_count": 43,
   "id": "induced-blake",
   "metadata": {},
   "outputs": [
    {
     "name": "stdout",
     "output_type": "stream",
     "text": [
      "2\n"
     ]
    }
   ],
   "source": [
    "# Total number of students in economics department\n",
    "print(collection.count_documents({'department':'Economics'}))"
   ]
  },
  {
   "cell_type": "code",
   "execution_count": 50,
   "id": "sealed-alaska",
   "metadata": {},
   "outputs": [
    {
     "name": "stdout",
     "output_type": "stream",
     "text": [
      "{'_id': ObjectId('6159b2df167fde5fe1d28988'), 'firstname': 'Mustapha', 'lastname': 'Yusuf', 'age': 23, 'department': 'Economics', 'address': {'number': 5, 'street': 'Ijeh Police Barracks', 'city': 'Ikoyi-Obalende'}, 'date': datetime.datetime(2021, 10, 3, 13, 40, 47, 74000)}\n",
      "\n",
      "{'_id': ObjectId('6159b4f5167fde5fe1d2898c'), 'firstname': 'Al-Bishir Nur', 'lastname': 'Nur', 'age': 24, 'department': 'Economics', 'address': {'number': 5, 'street': 'Yobe', 'city': 'Damaturu'}, 'date': datetime.datetime(2021, 10, 3, 13, 49, 41, 358000)}\n",
      "\n"
     ]
    }
   ],
   "source": [
    "# Students in economics department\n",
    "students_info = collection.find({'department':'Economics'})\n",
    "for i in students_info:\n",
    "    print(i)\n",
    "    print()\n",
    "   "
   ]
  },
  {
   "cell_type": "code",
   "execution_count": null,
   "id": "amazing-boutique",
   "metadata": {},
   "outputs": [],
   "source": []
  },
  {
   "cell_type": "code",
   "execution_count": 11,
   "id": "restricted-flexibility",
   "metadata": {},
   "outputs": [
    {
     "name": "stdout",
     "output_type": "stream",
     "text": [
      "{'_id': ObjectId('6159b2df167fde5fe1d28988'), 'firstname': 'Mustapha', 'lastname': 'Yusuf', 'age': 23, 'department': 'Economics', 'address': {'number': 5, 'street': 'Ijeh Police Barracks', 'city': 'Ikoyi-Obalende'}, 'date': datetime.datetime(2021, 10, 3, 13, 40, 47, 74000)}\n"
     ]
    }
   ],
   "source": [
    "# Retrivong items from the database collection; Students_info\n",
    "# Find the first one\n",
    "student_info = collection.find_one({})\n",
    "print(student_info)"
   ]
  },
  {
   "cell_type": "code",
   "execution_count": 24,
   "id": "ahead-single",
   "metadata": {},
   "outputs": [
    {
     "name": "stdout",
     "output_type": "stream",
     "text": [
      "{'_id': ObjectId('6159b4f5167fde5fe1d2898d'), 'firstname': 'Hamza', 'lastname': 'Isiaka', 'age': 27, 'department': 'Banking and Finance', 'address': {'number': 13, 'street': 'Eti-osa', 'city': 'Ikoyi'}, 'date': datetime.datetime(2021, 10, 3, 13, 49, 41, 358000)}\n",
      "\n",
      "{'_id': ObjectId('6159b4f5167fde5fe1d28989'), 'firstname': 'Zainab', 'lastname': 'Yusuf', 'age': 20, 'department': 'English', 'address': {'number': 6, 'street': 'Ijeh Police Barracks', 'city': 'Ikoyi-Obalende'}, 'date': datetime.datetime(2021, 10, 3, 13, 49, 41, 358000)}\n"
     ]
    }
   ],
   "source": [
    "# Retriving a particular one item from the database; Students_info\n",
    "student_info = collection.find_one({'firstname':'Hamza'})\n",
    "print(student_info)\n",
    "\n",
    "print()\n",
    "\n",
    "# Retriving a particular one item from the database; Students_info\n",
    "student_info = collection.find_one({'firstname':'Zainab'})\n",
    "print(student_info)"
   ]
  },
  {
   "cell_type": "code",
   "execution_count": 39,
   "id": "numerical-peter",
   "metadata": {},
   "outputs": [
    {
     "name": "stdout",
     "output_type": "stream",
     "text": [
      "\n",
      "{'_id': ObjectId('6159b4f5167fde5fe1d2898a'), 'firstname': 'Aisha', 'lastname': 'Yusuf', 'age': 18, 'department': 'Political-Science', 'address': {'number': 7, 'street': 'Ijeh Police Barracks', 'city': 'Ikoyi-Obalende'}, 'date': datetime.datetime(2021, 10, 3, 13, 49, 41, 358000)}\n",
      "\n",
      "{'_id': ObjectId('6159b4f5167fde5fe1d2898b'), 'firstname': 'Halima', 'lastname': 'Yusuf', 'age': 10, 'department': 'Law', 'address': {'number': 15, 'street': 'Ijeh Police Barracks', 'city': 'Ikoyi-Obalende'}, 'date': datetime.datetime(2021, 10, 3, 13, 49, 41, 358000)}\n",
      "\n",
      "{'_id': ObjectId('6159b2df167fde5fe1d28988'), 'firstname': 'Mustapha', 'lastname': 'Yusuf', 'age': 23, 'department': 'Economics', 'address': {'number': 5, 'street': 'Ijeh Police Barracks', 'city': 'Ikoyi-Obalende'}, 'date': datetime.datetime(2021, 10, 3, 13, 40, 47, 74000)}\n",
      "\n",
      "{'_id': ObjectId('6159b4f5167fde5fe1d28989'), 'firstname': 'Zainab', 'lastname': 'Yusuf', 'age': 20, 'department': 'English', 'address': {'number': 6, 'street': 'Ijeh Police Barracks', 'city': 'Ikoyi-Obalende'}, 'date': datetime.datetime(2021, 10, 3, 13, 49, 41, 358000)}\n"
     ]
    }
   ],
   "source": [
    "# Retriving items that has the same lastname of Yusuf and sorting by their firstnames; from Students_info            \n",
    "student_info = collection.find({'lastname':'Yusuf'}).sort('firstname')\n",
    "for i in student_info:\n",
    "    print()\n",
    "    print(i)\n",
    "    \n"
   ]
  },
  {
   "cell_type": "code",
   "execution_count": null,
   "id": "hundred-report",
   "metadata": {},
   "outputs": [],
   "source": []
  },
  {
   "cell_type": "code",
   "execution_count": 57,
   "id": "applicable-syria",
   "metadata": {},
   "outputs": [
    {
     "name": "stdout",
     "output_type": "stream",
     "text": [
      "<pymongo.results.DeleteResult object at 0x000002002060B040>\n"
     ]
    }
   ],
   "source": [
    "# Ddeleting an item from the database using object id\n",
    "result = collection.delete_one({'_id': ObjectId('6159b4f5167fde5fe1d2898e')})\n",
    "print(result)"
   ]
  },
  {
   "cell_type": "code",
   "execution_count": 58,
   "id": "arabic-exhaust",
   "metadata": {},
   "outputs": [
    {
     "name": "stdout",
     "output_type": "stream",
     "text": [
      "6\n"
     ]
    }
   ],
   "source": [
    "# Total number of records in the database after performing delete operation\n",
    "print(collection.count_documents({}))"
   ]
  },
  {
   "cell_type": "code",
   "execution_count": 59,
   "id": "monetary-funeral",
   "metadata": {},
   "outputs": [
    {
     "name": "stdout",
     "output_type": "stream",
     "text": [
      "<pymongo.results.UpdateResult object at 0x000002002060B8C0>\n"
     ]
    }
   ],
   "source": [
    "# Updating an item in the database\n",
    "# Updating department from English to Linguistics\n",
    "result = collection.update_one({'firstname':'Zainab'}, {'$set':{'department':'Linguistics'}})\n",
    "print(result)"
   ]
  },
  {
   "cell_type": "code",
   "execution_count": 60,
   "id": "confirmed-editor",
   "metadata": {},
   "outputs": [
    {
     "name": "stdout",
     "output_type": "stream",
     "text": [
      "<pymongo.results.UpdateResult object at 0x00000200205FD680>\n"
     ]
    }
   ],
   "source": [
    "# Updating an item in the database\n",
    "# Unsetting status from done to none\n",
    "result = collection.update_one({'firstname':'Zainab'}, {'$unset':{'department':None}})\n",
    "print(result)"
   ]
  },
  {
   "cell_type": "code",
   "execution_count": 71,
   "id": "mysterious-kuwait",
   "metadata": {},
   "outputs": [
    {
     "data": {
      "text/html": [
       "<div>\n",
       "<style scoped>\n",
       "    .dataframe tbody tr th:only-of-type {\n",
       "        vertical-align: middle;\n",
       "    }\n",
       "\n",
       "    .dataframe tbody tr th {\n",
       "        vertical-align: top;\n",
       "    }\n",
       "\n",
       "    .dataframe thead th {\n",
       "        text-align: right;\n",
       "    }\n",
       "</style>\n",
       "<table border=\"1\" class=\"dataframe\">\n",
       "  <thead>\n",
       "    <tr style=\"text-align: right;\">\n",
       "      <th></th>\n",
       "      <th>_id</th>\n",
       "      <th>firstname</th>\n",
       "      <th>lastname</th>\n",
       "      <th>age</th>\n",
       "      <th>department</th>\n",
       "      <th>date</th>\n",
       "      <th>address.number</th>\n",
       "      <th>address.street</th>\n",
       "      <th>address.city</th>\n",
       "    </tr>\n",
       "  </thead>\n",
       "  <tbody>\n",
       "    <tr>\n",
       "      <th>0</th>\n",
       "      <td>6159b2df167fde5fe1d28988</td>\n",
       "      <td>Mustapha</td>\n",
       "      <td>Yusuf</td>\n",
       "      <td>23</td>\n",
       "      <td>Economics</td>\n",
       "      <td>2021-10-03 13:40:47.074</td>\n",
       "      <td>5</td>\n",
       "      <td>Ijeh Police Barracks</td>\n",
       "      <td>Ikoyi-Obalende</td>\n",
       "    </tr>\n",
       "    <tr>\n",
       "      <th>1</th>\n",
       "      <td>6159b4f5167fde5fe1d28989</td>\n",
       "      <td>Zainab</td>\n",
       "      <td>Yusuf</td>\n",
       "      <td>20</td>\n",
       "      <td>NaN</td>\n",
       "      <td>2021-10-03 13:49:41.358</td>\n",
       "      <td>6</td>\n",
       "      <td>Ijeh Police Barracks</td>\n",
       "      <td>Ikoyi-Obalende</td>\n",
       "    </tr>\n",
       "    <tr>\n",
       "      <th>2</th>\n",
       "      <td>6159b4f5167fde5fe1d2898a</td>\n",
       "      <td>Aisha</td>\n",
       "      <td>Yusuf</td>\n",
       "      <td>18</td>\n",
       "      <td>Political-Science</td>\n",
       "      <td>2021-10-03 13:49:41.358</td>\n",
       "      <td>7</td>\n",
       "      <td>Ijeh Police Barracks</td>\n",
       "      <td>Ikoyi-Obalende</td>\n",
       "    </tr>\n",
       "    <tr>\n",
       "      <th>3</th>\n",
       "      <td>6159b4f5167fde5fe1d2898b</td>\n",
       "      <td>Halima</td>\n",
       "      <td>Yusuf</td>\n",
       "      <td>10</td>\n",
       "      <td>Law</td>\n",
       "      <td>2021-10-03 13:49:41.358</td>\n",
       "      <td>15</td>\n",
       "      <td>Ijeh Police Barracks</td>\n",
       "      <td>Ikoyi-Obalende</td>\n",
       "    </tr>\n",
       "    <tr>\n",
       "      <th>4</th>\n",
       "      <td>6159b4f5167fde5fe1d2898c</td>\n",
       "      <td>Al-Bishir Nur</td>\n",
       "      <td>Nur</td>\n",
       "      <td>24</td>\n",
       "      <td>Economics</td>\n",
       "      <td>2021-10-03 13:49:41.358</td>\n",
       "      <td>5</td>\n",
       "      <td>Yobe</td>\n",
       "      <td>Damaturu</td>\n",
       "    </tr>\n",
       "  </tbody>\n",
       "</table>\n",
       "</div>"
      ],
      "text/plain": [
       "                        _id      firstname lastname  age         department  \\\n",
       "0  6159b2df167fde5fe1d28988       Mustapha    Yusuf   23          Economics   \n",
       "1  6159b4f5167fde5fe1d28989         Zainab    Yusuf   20                NaN   \n",
       "2  6159b4f5167fde5fe1d2898a          Aisha    Yusuf   18  Political-Science   \n",
       "3  6159b4f5167fde5fe1d2898b         Halima    Yusuf   10                Law   \n",
       "4  6159b4f5167fde5fe1d2898c  Al-Bishir Nur      Nur   24          Economics   \n",
       "\n",
       "                     date  address.number        address.street  \\\n",
       "0 2021-10-03 13:40:47.074               5  Ijeh Police Barracks   \n",
       "1 2021-10-03 13:49:41.358               6  Ijeh Police Barracks   \n",
       "2 2021-10-03 13:49:41.358               7  Ijeh Police Barracks   \n",
       "3 2021-10-03 13:49:41.358              15  Ijeh Police Barracks   \n",
       "4 2021-10-03 13:49:41.358               5                  Yobe   \n",
       "\n",
       "     address.city  \n",
       "0  Ikoyi-Obalende  \n",
       "1  Ikoyi-Obalende  \n",
       "2  Ikoyi-Obalende  \n",
       "3  Ikoyi-Obalende  \n",
       "4        Damaturu  "
      ]
     },
     "execution_count": 71,
     "metadata": {},
     "output_type": "execute_result"
    }
   ],
   "source": [
    "# Converting records in the database to pandas dataframe\n",
    "data = list(collection.find({}))\n",
    "df = json_normalize(data)\n",
    "df.head()"
   ]
  },
  {
   "cell_type": "code",
   "execution_count": null,
   "id": "perceived-boutique",
   "metadata": {},
   "outputs": [],
   "source": []
  },
  {
   "cell_type": "code",
   "execution_count": null,
   "id": "figured-cleaners",
   "metadata": {},
   "outputs": [],
   "source": []
  },
  {
   "cell_type": "code",
   "execution_count": null,
   "id": "thorough-senegal",
   "metadata": {},
   "outputs": [],
   "source": []
  },
  {
   "cell_type": "code",
   "execution_count": null,
   "id": "compatible-launch",
   "metadata": {},
   "outputs": [],
   "source": []
  },
  {
   "cell_type": "code",
   "execution_count": null,
   "id": "lonely-domestic",
   "metadata": {},
   "outputs": [],
   "source": []
  },
  {
   "cell_type": "code",
   "execution_count": null,
   "id": "atomic-creator",
   "metadata": {},
   "outputs": [],
   "source": []
  },
  {
   "cell_type": "code",
   "execution_count": null,
   "id": "combined-excellence",
   "metadata": {},
   "outputs": [],
   "source": []
  }
 ],
 "metadata": {
  "kernelspec": {
   "display_name": "Python 3",
   "language": "python",
   "name": "python3"
  },
  "language_info": {
   "codemirror_mode": {
    "name": "ipython",
    "version": 3
   },
   "file_extension": ".py",
   "mimetype": "text/x-python",
   "name": "python",
   "nbconvert_exporter": "python",
   "pygments_lexer": "ipython3",
   "version": "3.8.8"
  }
 },
 "nbformat": 4,
 "nbformat_minor": 5
}
